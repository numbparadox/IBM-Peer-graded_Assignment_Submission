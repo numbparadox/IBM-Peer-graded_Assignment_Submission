{
 "cells": [
  {
   "cell_type": "markdown",
   "id": "1a5cd65a",
   "metadata": {},
   "source": [
    "# Data Science Tools and Ecosystem"
   ]
  },
  {
   "cell_type": "markdown",
   "id": "17743b93",
   "metadata": {},
   "source": [
    "In this notebook,we will summarize Data Science Tools and Ecosystem."
   ]
  },
  {
   "cell_type": "markdown",
   "id": "0833bc07",
   "metadata": {},
   "source": [
    "**Objectives:**\n",
    "- Create a markdown cell with the title of the notebook. (1 pt)\n",
    "- Create a markdown cell for an introduction. (1 pt)\n",
    "- Create a markdown cell to list data science languages. (3 pts)\n",
    "- Create a markdown cell to list data science libraries. (3 pts)\n",
    "- Create a markdown cell with a table of Data Science tools. (3 pts)\n",
    "- Create a markdown cell introducing arithmetic expression examples. (1 pt)\n",
    "- Create a code cell to multiply and add numbers.(2 pts)\n",
    "- Create a code cell to convert minutes to hours. (2 pts)\n",
    "- Insert a markdown cell to list Objectives. (3 pts)\n",
    "- Create a markdown cell to indicate the Author’s name. (2 pts)\n",
    "- Share your notebook through GitHub (3 pts)\n",
    "- Take a screenshot of the first page of the notebook. (1 pt)"
   ]
  },
  {
   "cell_type": "markdown",
   "id": "60054273",
   "metadata": {},
   "source": [
    "Some of the popular languages that Data Scientists use are:\n",
    "1. Python\n",
    "2. R \n",
    "3. JavaScript\n",
    "4. Scala\n",
    "5. Go\n",
    "6. Java\n",
    "7. C++\n",
    "8. SQL"
   ]
  },
  {
   "cell_type": "markdown",
   "id": "1e620733",
   "metadata": {},
   "source": [
    "Some of the commonly used libraries used by Data Scientists include:\n",
    "1. NumPy.\n",
    "2. Keras.\n",
    "3. Pandas.\n",
    "4. PyTorch.\n",
    "5. SciPy.\n",
    "6. Scikit-Learn.\n",
    "7. TensorFlow.\n",
    "8. Matplotlib."
   ]
  },
  {
   "cell_type": "markdown",
   "id": "1dffe2a0",
   "metadata": {},
   "source": [
    "|Data Science Tools|\n",
    "|------------------|\n",
    "|Jupyter Notebook|\n",
    "|TensorFlow|\n",
    "|Apache Spark|\n",
    "|Apache Hadoop|\n"
   ]
  },
  {
   "cell_type": "markdown",
   "id": "2c2040ae",
   "metadata": {},
   "source": [
    "### Below are a few examples of evaluating arithmetic expressions in Python\n",
    "\n",
    "Addition: 1 + 3 = 4\n",
    "Subtraction: 1.23 - 0.45 = 0.78\n",
    "Multiplication: 4 * 6 = 24\n",
    "Division: 6/2 = 3.0\n",
    "Power: 5**2 = 25 \n"
   ]
  },
  {
   "cell_type": "code",
   "execution_count": 1,
   "id": "763254cc",
   "metadata": {},
   "outputs": [
    {
     "data": {
      "text/plain": [
       "17"
      ]
     },
     "execution_count": 1,
     "metadata": {},
     "output_type": "execute_result"
    }
   ],
   "source": [
    "#This a simple arithmetic expression to mutiply then add integers\n",
    "(3*4)+5"
   ]
  },
  {
   "cell_type": "code",
   "execution_count": 7,
   "id": "1aef298a",
   "metadata": {},
   "outputs": [
    {
     "name": "stdout",
     "output_type": "stream",
     "text": [
      "3.3333333333333335 Hours\n"
     ]
    }
   ],
   "source": [
    "#This will convert 200 minutes to hours by diving by 60\n",
    "hours = 200/60\n",
    "print(str(hours) + \" Hours\")"
   ]
  },
  {
   "cell_type": "markdown",
   "id": "dbaac49c",
   "metadata": {},
   "source": [
    "## Author\n",
    "Vaashkar Paul"
   ]
  }
 ],
 "metadata": {
  "kernelspec": {
   "display_name": "Python 3 (ipykernel)",
   "language": "python",
   "name": "python3"
  },
  "language_info": {
   "codemirror_mode": {
    "name": "ipython",
    "version": 3
   },
   "file_extension": ".py",
   "mimetype": "text/x-python",
   "name": "python",
   "nbconvert_exporter": "python",
   "pygments_lexer": "ipython3",
   "version": "3.11.5"
  }
 },
 "nbformat": 4,
 "nbformat_minor": 5
}
